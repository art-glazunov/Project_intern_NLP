{
 "cells": [
  {
   "cell_type": "markdown",
   "metadata": {
    "colab_type": "text",
    "id": "M4AxSKhQ2JiN"
   },
   "source": [
    "# <center> Final model testing\n",
    "# <center> News Lenta.ru dataset  \n",
    "### <center> by Glazunov Artem"
   ]
  },
  {
   "cell_type": "markdown",
   "metadata": {
    "colab_type": "text",
    "id": "wYX9VxxPxlG6"
   },
   "source": [
    "Works via Google Colab"
   ]
  },
  {
   "cell_type": "markdown",
   "metadata": {
    "colab_type": "text",
    "id": "p6mjNMU7xpAA"
   },
   "source": [
    "Let's connect directories and load useful libs."
   ]
  },
  {
   "cell_type": "code",
   "execution_count": 1,
   "metadata": {
    "colab": {
     "base_uri": "https://localhost:8080/",
     "height": 124
    },
    "colab_type": "code",
    "executionInfo": {
     "elapsed": 27597,
     "status": "ok",
     "timestamp": 1595160477028,
     "user": {
      "displayName": "Artem Glazunov",
      "photoUrl": "",
      "userId": "00284840930055510851"
     },
     "user_tz": -180
    },
    "id": "mVCFo5CCRw2k",
    "outputId": "fc210c79-6f96-493b-ffa4-df5fd4d6e5cd"
   },
   "outputs": [
    {
     "name": "stdout",
     "output_type": "stream",
     "text": [
      "Go to this URL in a browser: https://accounts.google.com/o/oauth2/auth?client_id=947318989803-6bn6qk8qdgf4n4g3pfee6491hc0brc4i.apps.googleusercontent.com&redirect_uri=urn%3aietf%3awg%3aoauth%3a2.0%3aoob&response_type=code&scope=email%20https%3a%2f%2fwww.googleapis.com%2fauth%2fdocs.test%20https%3a%2f%2fwww.googleapis.com%2fauth%2fdrive%20https%3a%2f%2fwww.googleapis.com%2fauth%2fdrive.photos.readonly%20https%3a%2f%2fwww.googleapis.com%2fauth%2fpeopleapi.readonly\n",
      "\n",
      "Enter your authorization code:\n",
      "··········\n",
      "Mounted at /content/gdrive\n"
     ]
    }
   ],
   "source": [
    "from google.colab import drive\n",
    "drive.mount('/content/gdrive',force_remount=True)"
   ]
  },
  {
   "cell_type": "code",
   "execution_count": 2,
   "metadata": {
    "colab": {
     "base_uri": "https://localhost:8080/",
     "height": 35
    },
    "colab_type": "code",
    "executionInfo": {
     "elapsed": 1696,
     "status": "ok",
     "timestamp": 1595160477033,
     "user": {
      "displayName": "Artem Glazunov",
      "photoUrl": "",
      "userId": "00284840930055510851"
     },
     "user_tz": -180
    },
    "id": "kQU-dU3iR4Ha",
    "outputId": "9f80a8c1-01f5-42e2-97e2-a305fd8586d1"
   },
   "outputs": [
    {
     "name": "stdout",
     "output_type": "stream",
     "text": [
      "/content/gdrive/My Drive/Colab_Notebooks/project_intern\n"
     ]
    }
   ],
   "source": [
    "cd /content/gdrive/'My Drive'/Colab_Notebooks/project_intern"
   ]
  },
  {
   "cell_type": "code",
   "execution_count": 3,
   "metadata": {
    "colab": {},
    "colab_type": "code",
    "executionInfo": {
     "elapsed": 2460,
     "status": "ok",
     "timestamp": 1595160478816,
     "user": {
      "displayName": "Artem Glazunov",
      "photoUrl": "",
      "userId": "00284840930055510851"
     },
     "user_tz": -180
    },
    "id": "944SRiAD3NlX"
   },
   "outputs": [],
   "source": [
    "import os\n",
    "import pandas as pd\n",
    "import gensim\n",
    "from pprint import pprint\n",
    "\n",
    "from sklearn.feature_extraction.text import CountVectorizer\n",
    "\n",
    "from tqdm import tqdm_notebook"
   ]
  },
  {
   "cell_type": "code",
   "execution_count": 6,
   "metadata": {
    "colab": {},
    "colab_type": "code",
    "executionInfo": {
     "elapsed": 1308,
     "status": "ok",
     "timestamp": 1595160516635,
     "user": {
      "displayName": "Artem Glazunov",
      "photoUrl": "",
      "userId": "00284840930055510851"
     },
     "user_tz": -180
    },
    "id": "cjm5Mtdl2dWa"
   },
   "outputs": [],
   "source": [
    "PATH_TO_RAW_DATA = 'data'\n",
    "PATH_TO_DATA = 'texts_after_preproc'\n",
    "PATH_TO_MODEL = 'results2'"
   ]
  },
  {
   "cell_type": "code",
   "execution_count": 5,
   "metadata": {
    "colab": {
     "base_uri": "https://localhost:8080/",
     "height": 415
    },
    "colab_type": "code",
    "executionInfo": {
     "elapsed": 31800,
     "status": "ok",
     "timestamp": 1595160515306,
     "user": {
      "displayName": "Artem Glazunov",
      "photoUrl": "",
      "userId": "00284840930055510851"
     },
     "user_tz": -180
    },
    "id": "B5vmh0T63DhG",
    "outputId": "c6006e63-0e55-43b4-91c1-d665d09c4bcc"
   },
   "outputs": [
    {
     "data": {
      "text/html": [
       "<div>\n",
       "<style scoped>\n",
       "    .dataframe tbody tr th:only-of-type {\n",
       "        vertical-align: middle;\n",
       "    }\n",
       "\n",
       "    .dataframe tbody tr th {\n",
       "        vertical-align: top;\n",
       "    }\n",
       "\n",
       "    .dataframe thead th {\n",
       "        text-align: right;\n",
       "    }\n",
       "</style>\n",
       "<table border=\"1\" class=\"dataframe\">\n",
       "  <thead>\n",
       "    <tr style=\"text-align: right;\">\n",
       "      <th></th>\n",
       "      <th>texts</th>\n",
       "    </tr>\n",
       "  </thead>\n",
       "  <tbody>\n",
       "    <tr>\n",
       "      <th>0</th>\n",
       "      <td>бой сопоцкин друскеник заканчиваться отступлен...</td>\n",
       "    </tr>\n",
       "    <tr>\n",
       "      <th>1</th>\n",
       "      <td>министерство народный просвещение вид происход...</td>\n",
       "    </tr>\n",
       "    <tr>\n",
       "      <th>2</th>\n",
       "      <td>штабскапитан п н нестеров день увидеть район ж...</td>\n",
       "    </tr>\n",
       "    <tr>\n",
       "      <th>3</th>\n",
       "      <td>фотографкорреспондент daily mirror рассказыват...</td>\n",
       "    </tr>\n",
       "    <tr>\n",
       "      <th>4</th>\n",
       "      <td>лицо приезжать варшава люблин передавать туда ...</td>\n",
       "    </tr>\n",
       "    <tr>\n",
       "      <th>...</th>\n",
       "      <td>...</td>\n",
       "    </tr>\n",
       "    <tr>\n",
       "      <th>800965</th>\n",
       "      <td>певец сергей шнуров раскритиковывать свой колл...</td>\n",
       "    </tr>\n",
       "    <tr>\n",
       "      <th>800966</th>\n",
       "      <td>министерство юстиция россия предлагать изменят...</td>\n",
       "    </tr>\n",
       "    <tr>\n",
       "      <th>800967</th>\n",
       "      <td>испытание сша ранее запрещать договор ликвидац...</td>\n",
       "    </tr>\n",
       "    <tr>\n",
       "      <th>800968</th>\n",
       "      <td>близкий день европейский часть россия погода а...</td>\n",
       "    </tr>\n",
       "    <tr>\n",
       "      <th>800969</th>\n",
       "      <td>ведущий футбольный чемпионат уходить зимний ка...</td>\n",
       "    </tr>\n",
       "  </tbody>\n",
       "</table>\n",
       "<p>800970 rows × 1 columns</p>\n",
       "</div>"
      ],
      "text/plain": [
       "                                                    texts\n",
       "0       бой сопоцкин друскеник заканчиваться отступлен...\n",
       "1       министерство народный просвещение вид происход...\n",
       "2       штабскапитан п н нестеров день увидеть район ж...\n",
       "3       фотографкорреспондент daily mirror рассказыват...\n",
       "4       лицо приезжать варшава люблин передавать туда ...\n",
       "...                                                   ...\n",
       "800965  певец сергей шнуров раскритиковывать свой колл...\n",
       "800966  министерство юстиция россия предлагать изменят...\n",
       "800967  испытание сша ранее запрещать договор ликвидац...\n",
       "800968  близкий день европейский часть россия погода а...\n",
       "800969  ведущий футбольный чемпионат уходить зимний ка...\n",
       "\n",
       "[800970 rows x 1 columns]"
      ]
     },
     "execution_count": 5,
     "metadata": {
      "tags": []
     },
     "output_type": "execute_result"
    }
   ],
   "source": [
    "data_preprocessed = pd.read_csv(os.path.join(PATH_TO_DATA,'texts_prep.csv'),index_col=0)\n",
    "data_preprocessed "
   ]
  },
  {
   "cell_type": "markdown",
   "metadata": {
    "colab_type": "text",
    "id": "aMYq6TUA8EKc"
   },
   "source": [
    "Loading the model"
   ]
  },
  {
   "cell_type": "code",
   "execution_count": 7,
   "metadata": {
    "colab": {
     "base_uri": "https://localhost:8080/",
     "height": 72
    },
    "colab_type": "code",
    "executionInfo": {
     "elapsed": 3654,
     "status": "ok",
     "timestamp": 1595160519027,
     "user": {
      "displayName": "Artem Glazunov",
      "photoUrl": "",
      "userId": "00284840930055510851"
     },
     "user_tz": -180
    },
    "id": "CuquxvKg3LeC",
    "outputId": "a8faab8d-8b26-4197-9744-61fabb88d87e"
   },
   "outputs": [
    {
     "name": "stderr",
     "output_type": "stream",
     "text": [
      "/usr/local/lib/python3.6/dist-packages/smart_open/smart_open_lib.py:254: UserWarning: This function is deprecated, use smart_open.open instead. See the migration notes for details: https://github.com/RaRe-Technologies/smart_open/blob/master/README.rst#migrating-to-the-new-open-function\n",
      "  'See the migration notes for details: %s' % _MIGRATION_NOTES_URL\n"
     ]
    }
   ],
   "source": [
    "LDA_model = gensim.models.LdaMulticore.load(os.path.join(PATH_TO_MODEL,'model2'))"
   ]
  },
  {
   "cell_type": "markdown",
   "metadata": {
    "colab_type": "text",
    "id": "DYo6ClR-8G74"
   },
   "source": [
    "Let's see the topics again."
   ]
  },
  {
   "cell_type": "code",
   "execution_count": 8,
   "metadata": {
    "colab": {
     "base_uri": "https://localhost:8080/",
     "height": 1000
    },
    "colab_type": "code",
    "executionInfo": {
     "elapsed": 3638,
     "status": "ok",
     "timestamp": 1595160519037,
     "user": {
      "displayName": "Artem Glazunov",
      "photoUrl": "",
      "userId": "00284840930055510851"
     },
     "user_tz": -180
    },
    "id": "jaj2DzLY4ZjT",
    "outputId": "d1436656-9fa0-40e4-89bf-9c10a1daf467"
   },
   "outputs": [
    {
     "name": "stdout",
     "output_type": "stream",
     "text": [
      "[(0,\n",
      "  '0.013*\"москва\" + 0.013*\"город\" + 0.011*\"область\" + 0.011*\"тысяча\" + '\n",
      "  '0.010*\"дом\" + 0.009*\"квартира\" + 0.009*\"метр\" + 0.008*\"район\" + '\n",
      "  '0.007*\"площадь\" + 0.007*\"строительство\"'),\n",
      " (1,\n",
      "  '0.022*\"фильм\" + 0.012*\"актер\" + 0.010*\"роль\" + 0.009*\"картина\" + '\n",
      "  '0.009*\"режиссер\" + 0.008*\"премия\" + 0.008*\"актриса\" + 0.007*\"сериал\" + '\n",
      "  '0.007*\"выходить\" + 0.007*\"главный\"'),\n",
      " (2,\n",
      "  '0.019*\"президент\" + 0.014*\"глава\" + 0.012*\"владимир\" + 0.011*\"путин\" + '\n",
      "  '0.009*\"сказать\" + 0.008*\"российский\" + 0.007*\"владимир путин\" + '\n",
      "  '0.006*\"президент россия\" + 0.006*\"москва\" + 0.006*\"вопрос\"'),\n",
      " (3,\n",
      "  '0.015*\"пользователь\" + 0.013*\"сеть\" + 0.011*\"компания\" + 0.009*\"сайт\" + '\n",
      "  '0.007*\"новый\" + 0.007*\"опубликовывать\" + 0.006*\"видео\" + 0.006*\"появляться\" '\n",
      "  '+ 0.006*\"информация\" + 0.006*\"сервис\"'),\n",
      " (4,\n",
      "  '0.011*\"полиция\" + 0.011*\"происходить\" + 0.010*\"сотрудник\" + '\n",
      "  '0.008*\"автомобиль\" + 0.008*\"задерживать\" + 0.007*\"мужчина\" + '\n",
      "  '0.007*\"полицейский\" + 0.006*\"данные\" + 0.006*\"орган\" + 0.006*\"место\"'),\n",
      " (5,\n",
      "  '0.056*\"процент\" + 0.011*\"цена\" + 0.010*\"рост\" + 0.009*\"рубль\" + '\n",
      "  '0.009*\"рынок\" + 0.008*\"составлять\" + 0.007*\"вырастать\" + 0.007*\"уровень\" + '\n",
      "  '0.006*\"страна\" + 0.006*\"показатель\"'),\n",
      " (6,\n",
      "  '0.025*\"военный\" + 0.013*\"ракета\" + 0.011*\"2016 год\" + 0.011*\"российский\" + '\n",
      "  '0.010*\"оборона\" + 0.009*\"сила\" + 0.009*\"2016\" + 0.007*\"новый\" + '\n",
      "  '0.007*\"корабль\" + 0.007*\"вооружение\"'),\n",
      " (7,\n",
      "  '0.008*\"самый\" + 0.007*\"первый\" + 0.007*\"место\" + 0.007*\"the\" + 0.007*\"2019\" '\n",
      "  '+ 0.006*\"новый\" + 0.006*\"группа\" + 0.006*\"представлять\" + 0.005*\"мир\" + '\n",
      "  '0.005*\"2016 год\"'),\n",
      " (8,\n",
      "  '0.011*\"ученый\" + 0.008*\"мочь\" + 0.007*\"исследование\" + 0.005*\"обнаруживать\" '\n",
      "  '+ 0.005*\"результат\" + 0.004*\"вода\" + 0.004*\"специалист\" + '\n",
      "  '0.004*\"космический\" + 0.004*\"исследователь\" + 0.004*\"земля\"'),\n",
      " (9,\n",
      "  '0.050*\"компания\" + 0.011*\"российский\" + 0.010*\"проект\" + 0.008*\"директор\" + '\n",
      "  '0.008*\"газ\" + 0.008*\"акция\" + 0.007*\"крупный\" + 0.007*\"предприятие\" + '\n",
      "  '0.006*\"рынок\" + 0.006*\"процент\"'),\n",
      " (10,\n",
      "  '0.009*\"закон\" + 0.006*\"документ\" + 0.006*\"правительство\" + '\n",
      "  '0.006*\"организация\" + 0.006*\"принимать\" + 0.006*\"должный\" + 0.005*\"право\" + '\n",
      "  '0.005*\"федеральный\" + 0.005*\"мочь\" + 0.005*\"государственный\"'),\n",
      " (11,\n",
      "  '0.031*\"самолет\" + 0.014*\"аэропорт\" + 0.012*\"пассажир\" + '\n",
      "  '0.010*\"авиакомпания\" + 0.009*\"полет\" + 0.009*\"борт\" + 0.008*\"судно\" + '\n",
      "  '0.008*\"находиться\" + 0.008*\"рейс\" + 0.007*\"воздушный\"'),\n",
      " (12,\n",
      "  '0.022*\"суд\" + 0.020*\"дело\" + 0.010*\"уголовный\" + 0.007*\"уголовный дело\" + '\n",
      "  '0.006*\"бывший\" + 0.006*\"статья\" + 0.006*\"следствие\" + 0.006*\"обвинение\" + '\n",
      "  '0.005*\"признавать\" + 0.005*\"отношение\"'),\n",
      " (13,\n",
      "  '0.016*\"матч\" + 0.013*\"команда\" + 0.012*\"чемпионат\" + 0.012*\"сборная\" + '\n",
      "  '0.010*\"клуб\" + 0.008*\"мир\" + 0.008*\"победа\" + 0.008*\"счет\" + '\n",
      "  '0.007*\"российский\" + 0.007*\"спортсмен\"'),\n",
      " (14,\n",
      "  '0.046*\"сша\" + 0.021*\"американский\" + 0.015*\"трамп\" + 0.015*\"президент\" + '\n",
      "  '0.011*\"страна\" + 0.008*\"штат\" + 0.008*\"президент сша\" + 0.007*\"дональд\" + '\n",
      "  '0.007*\"дональд трамп\" + 0.007*\"вашингтон\"'),\n",
      " (15,\n",
      "  '0.013*\"ребенок\" + 0.011*\"женщина\" + 0.009*\"мужчина\" + 0.008*\"рассказывать\" '\n",
      "  '+ 0.006*\"девушка\" + 0.005*\"мочь\" + 0.005*\"издание\" + 0.005*\"это сообщать\" + '\n",
      "  '0.005*\"однако\" + 0.005*\"изза\"'),\n",
      " (16,\n",
      "  '0.035*\"украина\" + 0.019*\"страна\" + 0.017*\"украинский\" + 0.013*\"российский\" '\n",
      "  '+ 0.010*\"киев\" + 0.008*\"крым\" + 0.007*\"республика\" + 0.007*\"сторона\" + '\n",
      "  '0.006*\"территория\" + 0.006*\"власть\"'),\n",
      " (17,\n",
      "  '0.030*\"выборы\" + 0.026*\"партия\" + 0.017*\"депутат\" + 0.012*\"кандидат\" + '\n",
      "  '0.011*\"парламент\" + 0.010*\"президент\" + 0.010*\"голос\" + 0.009*\"голосование\" '\n",
      "  '+ 0.008*\"губернатор\" + 0.008*\"регион\"'),\n",
      " (18,\n",
      "  '0.039*\"миллион\" + 0.038*\"рубль\" + 0.027*\"доллар\" + 0.027*\"тысяча\" + '\n",
      "  '0.024*\"миллиард\" + 0.013*\"банк\" + 0.012*\"составлять\" + 0.011*\"миллион '\n",
      "  'рубль\" + 0.010*\"тысяча рубль\" + 0.010*\"миллиард рубль\"'),\n",
      " (19,\n",
      "  '0.011*\"сирия\" + 0.008*\"акция\" + 0.007*\"город\" + 0.007*\"власть\" + '\n",
      "  '0.007*\"боевик\" + 0.007*\"сирийский\" + 0.007*\"страна\" + 0.007*\"организация\" + '\n",
      "  '0.006*\"операция\" + 0.006*\"террористический\"')]\n"
     ]
    }
   ],
   "source": [
    "pprint(LDA_model.print_topics())"
   ]
  },
  {
   "cell_type": "markdown",
   "metadata": {
    "colab_type": "text",
    "id": "6diVwyfZ8MCL"
   },
   "source": [
    "Preprocessing..."
   ]
  },
  {
   "cell_type": "code",
   "execution_count": 9,
   "metadata": {
    "colab": {},
    "colab_type": "code",
    "executionInfo": {
     "elapsed": 983,
     "status": "ok",
     "timestamp": 1595160523039,
     "user": {
      "displayName": "Artem Glazunov",
      "photoUrl": "",
      "userId": "00284840930055510851"
     },
     "user_tz": -180
    },
    "id": "03TBJKIT5u73"
   },
   "outputs": [],
   "source": [
    "data_list = data_preprocessed.texts.values.tolist()"
   ]
  },
  {
   "cell_type": "code",
   "execution_count": 11,
   "metadata": {
    "colab": {},
    "colab_type": "code",
    "executionInfo": {
     "elapsed": 497922,
     "status": "ok",
     "timestamp": 1595161061870,
     "user": {
      "displayName": "Artem Glazunov",
      "photoUrl": "",
      "userId": "00284840930055510851"
     },
     "user_tz": -180
    },
    "id": "9kCIE_wa4-sD"
   },
   "outputs": [],
   "source": [
    "vectorizer = CountVectorizer(ngram_range=(1, 2),min_df=640,max_df =0.25)\n",
    "matrix = vectorizer.fit_transform(data_list)"
   ]
  },
  {
   "cell_type": "code",
   "execution_count": 12,
   "metadata": {
    "colab": {},
    "colab_type": "code",
    "executionInfo": {
     "elapsed": 494916,
     "status": "ok",
     "timestamp": 1595161061882,
     "user": {
      "displayName": "Artem Glazunov",
      "photoUrl": "",
      "userId": "00284840930055510851"
     },
     "user_tz": -180
    },
    "id": "kUSe6HoDSkl9"
   },
   "outputs": [],
   "source": [
    "def vect2gensim(vectorizer, dtmatrix):\n",
    "     # transform sparse matrix into gensim corpus and dictionary\n",
    "    corpus_vect_gensim = gensim.matutils.Sparse2Corpus(dtmatrix, documents_columns=False)\n",
    "    dictionary = gensim.corpora.dictionary.Dictionary.from_corpus(corpus_vect_gensim,\n",
    "        id2word=dict((id, word) for word, id in vectorizer.vocabulary_.items()))\n",
    "\n",
    "    return (corpus_vect_gensim, dictionary)"
   ]
  },
  {
   "cell_type": "code",
   "execution_count": 13,
   "metadata": {
    "colab": {},
    "colab_type": "code",
    "executionInfo": {
     "elapsed": 494562,
     "status": "ok",
     "timestamp": 1595161061885,
     "user": {
      "displayName": "Artem Glazunov",
      "photoUrl": "",
      "userId": "00284840930055510851"
     },
     "user_tz": -180
    },
    "id": "B1AGvmudTxG5"
   },
   "outputs": [],
   "source": [
    "def corpus2words_lists(gensim_corpus,gensim_dict):\n",
    "\n",
    "  #Converts corpus to texts in the form of words lists for gensim Coherence model \n",
    "\n",
    "  dictionary = dict(gensim_dict)\n",
    "  corpus_list = list(gensim_corpus)\n",
    "\n",
    "  texts_new = []\n",
    "  for text_meta in corpus_list:\n",
    "    text_new=[]\n",
    "    for pair in text_meta:\n",
    "      for counter in range(1,pair[1]+1):\n",
    "        text_new.append(dictionary[pair[0]])\n",
    "    texts_new.append(text_new)\n",
    "\n",
    "  return texts_new"
   ]
  },
  {
   "cell_type": "code",
   "execution_count": 14,
   "metadata": {
    "colab": {},
    "colab_type": "code",
    "executionInfo": {
     "elapsed": 585754,
     "status": "ok",
     "timestamp": 1595161155180,
     "user": {
      "displayName": "Artem Glazunov",
      "photoUrl": "",
      "userId": "00284840930055510851"
     },
     "user_tz": -180
    },
    "id": "ZRj3UNBGTApl"
   },
   "outputs": [],
   "source": [
    "(gensim_corpus, gensim_dict) = vect2gensim(vectorizer, matrix)"
   ]
  },
  {
   "cell_type": "markdown",
   "metadata": {
    "colab_type": "text",
    "id": "c9uc-65CIZHx"
   },
   "source": [
    "Let's give the titles to the topics. "
   ]
  },
  {
   "cell_type": "code",
   "execution_count": 15,
   "metadata": {
    "colab": {},
    "colab_type": "code",
    "executionInfo": {
     "elapsed": 914,
     "status": "ok",
     "timestamp": 1595161687304,
     "user": {
      "displayName": "Artem Glazunov",
      "photoUrl": "",
      "userId": "00284840930055510851"
     },
     "user_tz": -180
    },
    "id": "_hYFC9Lk6dfp"
   },
   "outputs": [],
   "source": [
    "topics = {0:'Москва и городское хозяйство', 1:'Искусство, кинематограф и награды', 2: \"Президент России и власть\",\n",
    " 3:\"IT и медиа\", 4:\"Криминальная сводка\",5:\"Экономика и рынок\", 6:\"Вооружение и оборона\", 7: \"Шоубизнес, общее\",\n",
    " 8:\"Наука и исследования\",9:\"Бизнес\", 10:\"Государство и законотворчество\",11:\"Перелеты и пассажирская авиация\", \n",
    " 12: \"Следствие, уголовное судопроизводство\",  13:\"Спорт\", 14:\"США\",15:\"Происшествия, общее\",\n",
    " 16:\"Внешняя политика России, Украина\",17:\"Государство, парламент, выборы\",18:\"Банки и финансы\",\n",
    " 19:\"Ближний восток, терроризм\"}"
   ]
  },
  {
   "cell_type": "code",
   "execution_count": 16,
   "metadata": {
    "colab": {
     "base_uri": "https://localhost:8080/",
     "height": 465,
     "referenced_widgets": [
      "04b26f416334456989417aaa336aa8cd",
      "fb5b32c9c1df40889a8851bf15faa297",
      "a22523f9e39e4c47ad8eed055a40f923",
      "9195c0298b324e8bba11e52adc22e1bb",
      "aaa060dc38ff41c68b17f70a1dfa3ee2",
      "dd0ca14e564e409dbc4eced58cd295e9",
      "e3b8bffc9ea2474189ef1a6d3988d702",
      "b8bd57ae22414b5e9e18105f417fb4e8"
     ]
    },
    "colab_type": "code",
    "executionInfo": {
     "elapsed": 650327,
     "status": "ok",
     "timestamp": 1595162374101,
     "user": {
      "displayName": "Artem Glazunov",
      "photoUrl": "",
      "userId": "00284840930055510851"
     },
     "user_tz": -180
    },
    "id": "nk3UofYi6JNH",
    "outputId": "e2e038f8-9f42-4e19-b7ba-de2ca1cc1a97"
   },
   "outputs": [
    {
     "name": "stderr",
     "output_type": "stream",
     "text": [
      "/usr/local/lib/python3.6/dist-packages/ipykernel_launcher.py:2: TqdmDeprecationWarning: This function will be removed in tqdm==5.0.0\n",
      "Please use `tqdm.notebook.tqdm` instead of `tqdm.tqdm_notebook`\n",
      "  \n"
     ]
    },
    {
     "data": {
      "application/vnd.jupyter.widget-view+json": {
       "model_id": "04b26f416334456989417aaa336aa8cd",
       "version_major": 2,
       "version_minor": 0
      },
      "text/plain": [
       "HBox(children=(FloatProgress(value=0.0, max=800970.0), HTML(value='')))"
      ]
     },
     "metadata": {
      "tags": []
     },
     "output_type": "display_data"
    },
    {
     "name": "stdout",
     "output_type": "stream",
     "text": [
      "\n"
     ]
    },
    {
     "data": {
      "text/plain": [
       "[[('Москва и городское хозяйство', 0.09052615),\n",
       "  ('Криминальная сводка', 0.02845486),\n",
       "  ('Вооружение и оборона', 0.12142647),\n",
       "  ('Шоубизнес, общее', 0.05804026),\n",
       "  ('Наука и исследования', 0.11455826),\n",
       "  ('Спорт', 0.07967457),\n",
       "  ('Ближний восток, терроризм', 0.50607526)],\n",
       " [('Криминальная сводка', 0.07920003),\n",
       "  ('Шоубизнес, общее', 0.4759003),\n",
       "  ('Государство и законотворчество', 0.31652167),\n",
       "  ('Спорт', 0.04213546),\n",
       "  ('Ближний восток, терроризм', 0.082639255)],\n",
       " [('Москва и городское хозяйство', 0.024139423),\n",
       "  ('Искусство, кинематограф и награды', 0.111133516),\n",
       "  ('Криминальная сводка', 0.056608934),\n",
       "  ('Наука и исследования', 0.17214194),\n",
       "  ('Перелеты и пассажирская авиация', 0.14800431),\n",
       "  ('Происшествия, общее', 0.30359754),\n",
       "  ('Внешняя политика России, Украина', 0.023083046),\n",
       "  ('Ближний восток, терроризм', 0.1605921)]]"
      ]
     },
     "execution_count": 16,
     "metadata": {
      "tags": []
     },
     "output_type": "execute_result"
    }
   ],
   "source": [
    "topic_texts_descriptions = []\n",
    "for text_vect in tqdm_notebook(gensim_corpus):\n",
    "  topics_vect = LDA_model.get_document_topics(text_vect)\n",
    "\n",
    "  topic_descr_text = []\n",
    "  for pair in topics_vect:\n",
    "    topic_descr_text.append((topics[pair[0]],pair[1]))\n",
    "\n",
    "  topic_texts_descriptions.append(topic_descr_text)\n",
    "\n",
    "topic_texts_descriptions[:3]"
   ]
  },
  {
   "cell_type": "code",
   "execution_count": 17,
   "metadata": {
    "colab": {
     "base_uri": "https://localhost:8080/",
     "height": 643
    },
    "colab_type": "code",
    "executionInfo": {
     "elapsed": 678986,
     "status": "ok",
     "timestamp": 1595162407529,
     "user": {
      "displayName": "Artem Glazunov",
      "photoUrl": "",
      "userId": "00284840930055510851"
     },
     "user_tz": -180
    },
    "id": "7-MiLx4GAPt3",
    "outputId": "add255c1-49de-41c4-beb7-f2910ae9c3bf"
   },
   "outputs": [
    {
     "name": "stderr",
     "output_type": "stream",
     "text": [
      "/usr/local/lib/python3.6/dist-packages/IPython/core/interactiveshell.py:2718: DtypeWarning: Columns (3) have mixed types.Specify dtype option on import or set low_memory=False.\n",
      "  interactivity=interactivity, compiler=compiler, result=result)\n"
     ]
    },
    {
     "data": {
      "text/html": [
       "<div>\n",
       "<style scoped>\n",
       "    .dataframe tbody tr th:only-of-type {\n",
       "        vertical-align: middle;\n",
       "    }\n",
       "\n",
       "    .dataframe tbody tr th {\n",
       "        vertical-align: top;\n",
       "    }\n",
       "\n",
       "    .dataframe thead th {\n",
       "        text-align: right;\n",
       "    }\n",
       "</style>\n",
       "<table border=\"1\" class=\"dataframe\">\n",
       "  <thead>\n",
       "    <tr style=\"text-align: right;\">\n",
       "      <th></th>\n",
       "      <th>url</th>\n",
       "      <th>title</th>\n",
       "      <th>text</th>\n",
       "      <th>topic</th>\n",
       "      <th>tags</th>\n",
       "      <th>date</th>\n",
       "    </tr>\n",
       "  </thead>\n",
       "  <tbody>\n",
       "    <tr>\n",
       "      <th>0</th>\n",
       "      <td>https://lenta.ru/news/1914/09/16/hungarnn/</td>\n",
       "      <td>1914. Русские войска вступили в пределы Венгрии</td>\n",
       "      <td>Бои у Сопоцкина и Друскеник закончились отступ...</td>\n",
       "      <td>Библиотека</td>\n",
       "      <td>Первая мировая</td>\n",
       "      <td>1914/09/16</td>\n",
       "    </tr>\n",
       "    <tr>\n",
       "      <th>1</th>\n",
       "      <td>https://lenta.ru/news/1914/09/16/lermontov/</td>\n",
       "      <td>1914. Празднование столетия М.Ю. Лермонтова от...</td>\n",
       "      <td>Министерство народного просвещения, в виду про...</td>\n",
       "      <td>Библиотека</td>\n",
       "      <td>Первая мировая</td>\n",
       "      <td>1914/09/16</td>\n",
       "    </tr>\n",
       "    <tr>\n",
       "      <th>2</th>\n",
       "      <td>https://lenta.ru/news/1914/09/17/nesteroff/</td>\n",
       "      <td>1914. Das ist Nesteroff!</td>\n",
       "      <td>Штабс-капитан П. Н. Нестеров на днях, увидев в...</td>\n",
       "      <td>Библиотека</td>\n",
       "      <td>Первая мировая</td>\n",
       "      <td>1914/09/17</td>\n",
       "    </tr>\n",
       "    <tr>\n",
       "      <th>3</th>\n",
       "      <td>https://lenta.ru/news/1914/09/17/bulldogn/</td>\n",
       "      <td>1914. Бульдог-гонец под Льежем</td>\n",
       "      <td>Фотограф-корреспондент Daily Mirror рассказыва...</td>\n",
       "      <td>Библиотека</td>\n",
       "      <td>Первая мировая</td>\n",
       "      <td>1914/09/17</td>\n",
       "    </tr>\n",
       "    <tr>\n",
       "      <th>4</th>\n",
       "      <td>https://lenta.ru/news/1914/09/18/zver/</td>\n",
       "      <td>1914. Под Люблином пойман швабский зверь</td>\n",
       "      <td>Лица, приехавшие в Варшаву из Люблина, передаю...</td>\n",
       "      <td>Библиотека</td>\n",
       "      <td>Первая мировая</td>\n",
       "      <td>1914/09/18</td>\n",
       "    </tr>\n",
       "    <tr>\n",
       "      <th>...</th>\n",
       "      <td>...</td>\n",
       "      <td>...</td>\n",
       "      <td>...</td>\n",
       "      <td>...</td>\n",
       "      <td>...</td>\n",
       "      <td>...</td>\n",
       "    </tr>\n",
       "    <tr>\n",
       "      <th>800970</th>\n",
       "      <td>https://lenta.ru/news/2019/12/14/shnur/</td>\n",
       "      <td>Шнуров раскритиковал Гагарину на «Голосе»</td>\n",
       "      <td>Певец Сергей Шнуров раскритиковал свою коллегу...</td>\n",
       "      <td>NaN</td>\n",
       "      <td>ТВ и радио</td>\n",
       "      <td>2019/12/14</td>\n",
       "    </tr>\n",
       "    <tr>\n",
       "      <th>800971</th>\n",
       "      <td>https://lenta.ru/news/2019/12/14/dolg/</td>\n",
       "      <td>В России предложили изменить правила взыскания...</td>\n",
       "      <td>Министерство юстиции России предложило изменит...</td>\n",
       "      <td>NaN</td>\n",
       "      <td>Все</td>\n",
       "      <td>2019/12/14</td>\n",
       "    </tr>\n",
       "    <tr>\n",
       "      <th>800972</th>\n",
       "      <td>https://lenta.ru/news/2019/12/14/dark_euro/</td>\n",
       "      <td>В России назвали «черную дату» для Европы</td>\n",
       "      <td>Испытание США ранее запрещенной Договором о ли...</td>\n",
       "      <td>NaN</td>\n",
       "      <td>Политика</td>\n",
       "      <td>2019/12/14</td>\n",
       "    </tr>\n",
       "    <tr>\n",
       "      <th>800973</th>\n",
       "      <td>https://lenta.ru/news/2019/12/14/meteo/</td>\n",
       "      <td>Россиянам пообещали аномально теплую погоду</td>\n",
       "      <td>В ближайшие дни в европейской части России пог...</td>\n",
       "      <td>NaN</td>\n",
       "      <td>Общество</td>\n",
       "      <td>2019/12/14</td>\n",
       "    </tr>\n",
       "    <tr>\n",
       "      <th>800974</th>\n",
       "      <td>https://lenta.ru/news/2019/12/14/olimp/</td>\n",
       "      <td>В конкурсе прогнозов на АПЛ разыграют 100 тыся...</td>\n",
       "      <td>Ведущие футбольные чемпионаты ушли на зимние к...</td>\n",
       "      <td>NaN</td>\n",
       "      <td>Английский футбол</td>\n",
       "      <td>2019/12/14</td>\n",
       "    </tr>\n",
       "  </tbody>\n",
       "</table>\n",
       "<p>800975 rows × 6 columns</p>\n",
       "</div>"
      ],
      "text/plain": [
       "                                                url  ...        date\n",
       "0        https://lenta.ru/news/1914/09/16/hungarnn/  ...  1914/09/16\n",
       "1       https://lenta.ru/news/1914/09/16/lermontov/  ...  1914/09/16\n",
       "2       https://lenta.ru/news/1914/09/17/nesteroff/  ...  1914/09/17\n",
       "3        https://lenta.ru/news/1914/09/17/bulldogn/  ...  1914/09/17\n",
       "4            https://lenta.ru/news/1914/09/18/zver/  ...  1914/09/18\n",
       "...                                             ...  ...         ...\n",
       "800970      https://lenta.ru/news/2019/12/14/shnur/  ...  2019/12/14\n",
       "800971       https://lenta.ru/news/2019/12/14/dolg/  ...  2019/12/14\n",
       "800972  https://lenta.ru/news/2019/12/14/dark_euro/  ...  2019/12/14\n",
       "800973      https://lenta.ru/news/2019/12/14/meteo/  ...  2019/12/14\n",
       "800974      https://lenta.ru/news/2019/12/14/olimp/  ...  2019/12/14\n",
       "\n",
       "[800975 rows x 6 columns]"
      ]
     },
     "execution_count": 17,
     "metadata": {
      "tags": []
     },
     "output_type": "execute_result"
    }
   ],
   "source": [
    "data_raw = pd.read_csv(os.path.join(PATH_TO_RAW_DATA,'lenta-ru-news.csv'))\n",
    "data_raw"
   ]
  },
  {
   "cell_type": "markdown",
   "metadata": {
    "colab_type": "text",
    "id": "ZHL1qT3SIgVg"
   },
   "source": [
    "Let's see topic descriptions of the texts."
   ]
  },
  {
   "cell_type": "code",
   "execution_count": 18,
   "metadata": {
    "colab": {},
    "colab_type": "code",
    "executionInfo": {
     "elapsed": 1295,
     "status": "ok",
     "timestamp": 1595162408845,
     "user": {
      "displayName": "Artem Glazunov",
      "photoUrl": "",
      "userId": "00284840930055510851"
     },
     "user_tz": -180
    },
    "id": "UB_nUFU9B-yB"
   },
   "outputs": [],
   "source": [
    "data_res = data_raw[['text']].copy().dropna()\n",
    "data_res.index = range(data_res.shape[0])"
   ]
  },
  {
   "cell_type": "code",
   "execution_count": 19,
   "metadata": {
    "colab": {
     "base_uri": "https://localhost:8080/",
     "height": 415
    },
    "colab_type": "code",
    "executionInfo": {
     "elapsed": 2450,
     "status": "ok",
     "timestamp": 1595162410034,
     "user": {
      "displayName": "Artem Glazunov",
      "photoUrl": "",
      "userId": "00284840930055510851"
     },
     "user_tz": -180
    },
    "id": "wlqx99OjCL-Q",
    "outputId": "6ae0e333-45d1-4702-d3ed-951a8b8da22a"
   },
   "outputs": [
    {
     "data": {
      "text/html": [
       "<div>\n",
       "<style scoped>\n",
       "    .dataframe tbody tr th:only-of-type {\n",
       "        vertical-align: middle;\n",
       "    }\n",
       "\n",
       "    .dataframe tbody tr th {\n",
       "        vertical-align: top;\n",
       "    }\n",
       "\n",
       "    .dataframe thead th {\n",
       "        text-align: right;\n",
       "    }\n",
       "</style>\n",
       "<table border=\"1\" class=\"dataframe\">\n",
       "  <thead>\n",
       "    <tr style=\"text-align: right;\">\n",
       "      <th></th>\n",
       "      <th>text</th>\n",
       "      <th>topics</th>\n",
       "    </tr>\n",
       "  </thead>\n",
       "  <tbody>\n",
       "    <tr>\n",
       "      <th>0</th>\n",
       "      <td>Бои у Сопоцкина и Друскеник закончились отступ...</td>\n",
       "      <td>[(Москва и городское хозяйство, 0.09052615), (...</td>\n",
       "    </tr>\n",
       "    <tr>\n",
       "      <th>1</th>\n",
       "      <td>Министерство народного просвещения, в виду про...</td>\n",
       "      <td>[(Криминальная сводка, 0.07920003), (Шоубизнес...</td>\n",
       "    </tr>\n",
       "    <tr>\n",
       "      <th>2</th>\n",
       "      <td>Штабс-капитан П. Н. Нестеров на днях, увидев в...</td>\n",
       "      <td>[(Москва и городское хозяйство, 0.024139423), ...</td>\n",
       "    </tr>\n",
       "    <tr>\n",
       "      <th>3</th>\n",
       "      <td>Фотограф-корреспондент Daily Mirror рассказыва...</td>\n",
       "      <td>[(Искусство, кинематограф и награды, 0.1211058...</td>\n",
       "    </tr>\n",
       "    <tr>\n",
       "      <th>4</th>\n",
       "      <td>Лица, приехавшие в Варшаву из Люблина, передаю...</td>\n",
       "      <td>[(Наука и исследования, 0.023595354), (Перелет...</td>\n",
       "    </tr>\n",
       "    <tr>\n",
       "      <th>...</th>\n",
       "      <td>...</td>\n",
       "      <td>...</td>\n",
       "    </tr>\n",
       "    <tr>\n",
       "      <th>800965</th>\n",
       "      <td>Певец Сергей Шнуров раскритиковал свою коллегу...</td>\n",
       "      <td>[(Искусство, кинематограф и награды, 0.1551859...</td>\n",
       "    </tr>\n",
       "    <tr>\n",
       "      <th>800966</th>\n",
       "      <td>Министерство юстиции России предложило изменит...</td>\n",
       "      <td>[(Президент России и власть, 0.012453331), (IT...</td>\n",
       "    </tr>\n",
       "    <tr>\n",
       "      <th>800967</th>\n",
       "      <td>Испытание США ранее запрещенной Договором о ли...</td>\n",
       "      <td>[(Вооружение и оборона, 0.41419792), (Перелеты...</td>\n",
       "    </tr>\n",
       "    <tr>\n",
       "      <th>800968</th>\n",
       "      <td>В ближайшие дни в европейской части России пог...</td>\n",
       "      <td>[(Москва и городское хозяйство, 0.62386787), (...</td>\n",
       "    </tr>\n",
       "    <tr>\n",
       "      <th>800969</th>\n",
       "      <td>Ведущие футбольные чемпионаты ушли на зимние к...</td>\n",
       "      <td>[(IT и медиа, 0.105140544), (Экономика и рынок...</td>\n",
       "    </tr>\n",
       "  </tbody>\n",
       "</table>\n",
       "<p>800970 rows × 2 columns</p>\n",
       "</div>"
      ],
      "text/plain": [
       "                                                     text                                             topics\n",
       "0       Бои у Сопоцкина и Друскеник закончились отступ...  [(Москва и городское хозяйство, 0.09052615), (...\n",
       "1       Министерство народного просвещения, в виду про...  [(Криминальная сводка, 0.07920003), (Шоубизнес...\n",
       "2       Штабс-капитан П. Н. Нестеров на днях, увидев в...  [(Москва и городское хозяйство, 0.024139423), ...\n",
       "3       Фотограф-корреспондент Daily Mirror рассказыва...  [(Искусство, кинематограф и награды, 0.1211058...\n",
       "4       Лица, приехавшие в Варшаву из Люблина, передаю...  [(Наука и исследования, 0.023595354), (Перелет...\n",
       "...                                                   ...                                                ...\n",
       "800965  Певец Сергей Шнуров раскритиковал свою коллегу...  [(Искусство, кинематограф и награды, 0.1551859...\n",
       "800966  Министерство юстиции России предложило изменит...  [(Президент России и власть, 0.012453331), (IT...\n",
       "800967  Испытание США ранее запрещенной Договором о ли...  [(Вооружение и оборона, 0.41419792), (Перелеты...\n",
       "800968  В ближайшие дни в европейской части России пог...  [(Москва и городское хозяйство, 0.62386787), (...\n",
       "800969  Ведущие футбольные чемпионаты ушли на зимние к...  [(IT и медиа, 0.105140544), (Экономика и рынок...\n",
       "\n",
       "[800970 rows x 2 columns]"
      ]
     },
     "execution_count": 19,
     "metadata": {
      "tags": []
     },
     "output_type": "execute_result"
    }
   ],
   "source": [
    "data_res['topics'] = topic_texts_descriptions \n",
    "data_res"
   ]
  },
  {
   "cell_type": "code",
   "execution_count": 32,
   "metadata": {
    "colab": {
     "base_uri": "https://localhost:8080/",
     "height": 89
    },
    "colab_type": "code",
    "executionInfo": {
     "elapsed": 983,
     "status": "ok",
     "timestamp": 1595162677336,
     "user": {
      "displayName": "Artem Glazunov",
      "photoUrl": "",
      "userId": "00284840930055510851"
     },
     "user_tz": -180
    },
    "id": "HiyTK3gZGmWr",
    "outputId": "a5ae3111-3c75-48e8-fe83-f5cbdd81c824"
   },
   "outputs": [
    {
     "data": {
      "text/plain": [
       "array(['Как стало известно агентству Ассошиэйтед Пресс, экипаж последней экспедиции на станцию \"Мир\" считает ее способной выйти из-под контроля.Командир Виктор Афанасьев сказал: \"Мы чувствуем себя хорошо, но грустим, что оставили станцию летать в беспилотном режиме.\" Gazeta Ru подробно писала о том, что финансирование программы \"Мир\" закрыто, но конструкторы не спешат топить ее в Тихом океане, надеясь на изыскание внебюджетных средств.Они надеются, что правительство оплатит финальную экспедицию на \"Мир\" в феврале или марте 2000 года. Новая экспедиция должна постепенно перевести станцию на низкую орбиту, после чего 140- тонный \"Мир\" в основном сгорит в атмосфере, а незначительные его части упадут в Тихий океан. Но нет никакой гарантии, что пережившая столько отказов оборудования конструкция поведет себя адекватно командам. Афанасьев перечислил потенциально опасные элементы \"Мира\" на пресс- конференции, состоявшейся в понедельник в Звездном Городке. \"Может упасть давление в кабине,- сказал он,- и это станет серьезным препятствием для работы следующей экспедиции. Слишком велика роль \"человеческого фактора\" , элементарная ошибка может привести как к потере топлива, так и к потере ориентации.\" Американское космическое агентство по аэронавтике и космическому пространству предлагало России затопить \"Мир\", а его ресурсы перевести на международную космическую станцию. Но Россия не хочет расставаться с легендарным символом.',\n",
       "       list([('Президент России и власть', 0.07676053), ('Шоубизнес, общее', 0.035677463), ('Наука и исследования', 0.5651619), ('Перелеты и пассажирская авиация', 0.07488409), ('Спорт', 0.0467797), ('США', 0.033326034), ('Происшествия, общее', 0.10366777), ('Государство, парламент, выборы', 0.026292242), ('Банки и финансы', 0.036854)])],\n",
       "      dtype=object)"
      ]
     },
     "execution_count": 32,
     "metadata": {
      "tags": []
     },
     "output_type": "execute_result"
    }
   ],
   "source": [
    "data_res.values[5]"
   ]
  },
  {
   "cell_type": "code",
   "execution_count": 20,
   "metadata": {
    "colab": {
     "base_uri": "https://localhost:8080/",
     "height": 89
    },
    "colab_type": "code",
    "executionInfo": {
     "elapsed": 2439,
     "status": "ok",
     "timestamp": 1595162410036,
     "user": {
      "displayName": "Artem Glazunov",
      "photoUrl": "",
      "userId": "00284840930055510851"
     },
     "user_tz": -180
    },
    "id": "pQ3BEfYsG-mb",
    "outputId": "0aed9bff-1ad2-4b0e-b8b1-055af9f6a4fc"
   },
   "outputs": [
    {
     "data": {
      "text/plain": [
       "array(['Япония приняла решение разморозить кредиты России на сумму в полтора миллиарда долларов. Об этом заявил сегодня после встречи с премьер-министром Японии вице-премьер правительства России Виктор Христенко. Он прибыл в Токио во главе делегации для участия в заседании  российско-японской межправительственной комиссии по торгово-экономическим  вопросам, которое  начнется в  среду  в Токио. Один из участников подготовки этого заседания сообщил \"Интерфаксу\", что Христенко постарается на конкретных макроэкономических показателях  за последние  месяцы доказать, что экономика России становится более стабильной и убедить Японию в своей платежеспособности и партнерской надежности. \"Если на заседании  комиссии японская сторона будет удовлетворена этими данными, то многие российско-японские проекты по улучшению  экономики дальневосточного побережья, примут более реальные очертания\", - подчеркнул источник. Сегодняшнее сообщение о разморозке кредита показывает, что приведенные Христенко выкладки оказались убедительными для японцев. В  отношении   Японии  еще   со  времен СССР  осталаськоммерческая задолженность  японским фирмам,  общий объем которой составляет около $1,1 миллиардов. Основная задолженность перед крупными фирмами, объединившимися  в Токийский клуб, составляет около $925 миллионов. Общий же объем внешнего долга России в настоящее время  составляет около $150 миллиардов, и платежи по его обслуживанию в соответствии  с графиком  должны были  бы составить  около  90% доходов федерального бюджета.',\n",
       "       list([('Президент России и власть', 0.13603395), ('Экономика и рынок', 0.11549434), ('Бизнес', 0.07544614), ('Государство и законотворчество', 0.08746299), ('Внешняя политика России, Украина', 0.19657712), ('Банки и финансы', 0.38223508)])],\n",
       "      dtype=object)"
      ]
     },
     "execution_count": 20,
     "metadata": {
      "tags": []
     },
     "output_type": "execute_result"
    }
   ],
   "source": [
    "data_res.values[7]"
   ]
  },
  {
   "cell_type": "code",
   "execution_count": 21,
   "metadata": {
    "colab": {
     "base_uri": "https://localhost:8080/",
     "height": 89
    },
    "colab_type": "code",
    "executionInfo": {
     "elapsed": 2425,
     "status": "ok",
     "timestamp": 1595162410037,
     "user": {
      "displayName": "Artem Glazunov",
      "photoUrl": "",
      "userId": "00284840930055510851"
     },
     "user_tz": -180
    },
    "id": "_gyNsG4lGsOW",
    "outputId": "91b9688d-37f2-487e-f925-8a640a2c9065"
   },
   "outputs": [
    {
     "data": {
      "text/plain": [
       "array(['МВД России называет имя человека, который использовал документы Лайпанова при подготовке взрывов в Москве. Об этом 17 сентября сообщила радиостанция \"Эхо Москвы\". Напомним, что человек, известный под именем Мухита Насировича Лайпанова, арендовал мебельный склад во взорванном доме на Каширском шоссе. И он же, по информации ГУВД, снимал помещение на первом этаже во взорваном доме в Печатниках. Однако еще 13 сентября министр внутренних дел РФ Рушайло заявил РИА \"Новости\", что фамилия Лайпанов - подставная. Настоящий Мухит Лайпанов погиб в феврале 1999 года в Ставропольском крае в результате ДТП. По сведениям МВД, под фамилией Лайпанова скрывался 30-летний уроженец Карачаевска  Ачемез Шагабанович Гочияев. Он объявлен в розыск. Особые приметы разыскиваемого: на пальцах рук может быть татуировка в виде перстня. Правоохранительные органы обратились с просьбой ко всем, кому известно его местонахождение, сообщить об этом по телефону в ближайшее отделение милиции.',\n",
       "       list([('Москва и городское хозяйство', 0.03168484), ('Президент России и власть', 0.21747655), ('Криминальная сводка', 0.6599767), ('Следствие, уголовное судопроизводство', 0.051246494), ('Происшествия, общее', 0.038556326)])],\n",
       "      dtype=object)"
      ]
     },
     "execution_count": 21,
     "metadata": {
      "tags": []
     },
     "output_type": "execute_result"
    }
   ],
   "source": [
    "data_res.values[300]"
   ]
  },
  {
   "cell_type": "code",
   "execution_count": 22,
   "metadata": {
    "colab": {
     "base_uri": "https://localhost:8080/",
     "height": 89
    },
    "colab_type": "code",
    "executionInfo": {
     "elapsed": 2409,
     "status": "ok",
     "timestamp": 1595162410038,
     "user": {
      "displayName": "Artem Glazunov",
      "photoUrl": "",
      "userId": "00284840930055510851"
     },
     "user_tz": -180
    },
    "id": "VPOEl37mGgKe",
    "outputId": "643aaa7d-1bcc-4f5a-b90b-28e8c82b39f4"
   },
   "outputs": [
    {
     "data": {
      "text/plain": [
       "array(['В ночь со среды на четверг под Новосибирском при столкновении трех автомобилей - \"Волги\", \"Газели\" и  военного грузовика \"Урал-375\" - получил тяжелые травмы известный новосибирский режиссер, основатель и бессменный руководитель Городского драматического театра (НГДТ) Сергей Афанасьев. Как сообщили газете \"Вечерний Новосибирск\" в городской клинической больнице, у Сергея Афанасьева многочисленные переломы, но ожогов нет, он в сознании,  и шансов на благоприятный исход очень много. Однако ему предстоит провести на больничной койке не меньше 2 с половиной месяцев. Всего в этой катастрофе пострадали шесть человек, в том числе жена Афанасьева Татьяна. Ее состояние удовлетворительное. Режиссер и его супруга ехали в \"Волге\". Еще один пассажир легковой машины погиб, причем тело обгорело настолько, что не сразу удалось установить не только личность, но и то, что  это была женщина. Как пишет \"Вечерний Новосибирск\", погибшая занималась вопросами строительства нового здания драмтеатра. Сергей Афанасьев стал художественным руководителем НГДТ в 1988 году. За годы существования театра он поставил более 30 спектаклей, организовал и провел 5 фестивалей, снял художественный полнометражный фильм \"Стерва\", возглавляет российско-французский театральный проект. В 1994 году Сергею Афанасьеву было присвоено почетное звание \"Сибиряк года\". В 1997 году мэрией Новосибирска Афанасьеву была присуждена городская премия в области культуры и искусства \"Человек года\". В декабре 1999 года Афанасьев и его театр приезжали  в Москву на фестиваль \"Культурные герои\".',\n",
       "       list([('Москва и городское хозяйство', 0.14989913), ('Искусство, кинематограф и награды', 0.32984328), ('Президент России и власть', 0.08749942), ('Криминальная сводка', 0.2815393), ('Шоубизнес, общее', 0.055406936), ('Перелеты и пассажирская авиация', 0.015552003), ('Происшествия, общее', 0.069804996)])],\n",
       "      dtype=object)"
      ]
     },
     "execution_count": 22,
     "metadata": {
      "tags": []
     },
     "output_type": "execute_result"
    }
   ],
   "source": [
    "data_res.values[33000]"
   ]
  },
  {
   "cell_type": "code",
   "execution_count": 23,
   "metadata": {
    "colab": {
     "base_uri": "https://localhost:8080/",
     "height": 89
    },
    "colab_type": "code",
    "executionInfo": {
     "elapsed": 2395,
     "status": "ok",
     "timestamp": 1595162410040,
     "user": {
      "displayName": "Artem Glazunov",
      "photoUrl": "",
      "userId": "00284840930055510851"
     },
     "user_tz": -180
    },
    "id": "LvMofHolGP99",
    "outputId": "1f0bae8a-d9fd-442f-ab54-fb6b7661b286"
   },
   "outputs": [
    {
     "data": {
      "text/plain": [
       "array(['Федеральная комиссия по рынку ценных бумаг России (ФКЦБ) подготовила поправки и дополнения в Уголовный и Уголовно-процессуальный кодексы, которые предусматривают уголовную ответственность за нарушения закона \"О защите прав и законных интересов инвесторов на рынке ценных бумаг\". Уголовная ответственность, в частности, устанавливается за утверждение отчета об итогах выпуска ценных бумаг, содержащего заведомо недостоверную информацию, за размещение эмиссионных ценных бумаг без госрегистрации их выпуска в случаях, когда такая регистрация является обязательной. Если эти деяния повлекли крупный ущерб, в 2000 раз превышающий минимальный размер оплаты труда (МРОТ), виновные наказываются штрафом 500 - 700 МРОТ или в размере доходов осужденного за 5 - 7 месяцев, либо обязательными работами на срок от 180 до 240 часов, либо исправительными работами на срок от 1 года до 2 лет. Те же деяния, совершенные неоднократно или совершенные группой лиц по сговору, наказываются лишением свободы на срок до трех лет. Предлагается также ввести статью, предусматривающую уголовную ответственность за уклонение от раскрытия информации об эмитенте инвестору или уполномоченным органам. Такая информация может содержать сведения о финансово-хозяйственной деятельности эмитента, о ценных бумагах, а также данные о сделках и иных операциях с ценными бумагами.',\n",
       "       list([('Бизнес', 0.2232333), ('Государство и законотворчество', 0.3383986), ('Следствие, уголовное судопроизводство', 0.36742604), ('Банки и финансы', 0.07009446)])],\n",
       "      dtype=object)"
      ]
     },
     "execution_count": 23,
     "metadata": {
      "tags": []
     },
     "output_type": "execute_result"
    }
   ],
   "source": [
    "data_res.values[21000]"
   ]
  },
  {
   "cell_type": "code",
   "execution_count": 24,
   "metadata": {
    "colab": {
     "base_uri": "https://localhost:8080/",
     "height": 89
    },
    "colab_type": "code",
    "executionInfo": {
     "elapsed": 2382,
     "status": "ok",
     "timestamp": 1595162410043,
     "user": {
      "displayName": "Artem Glazunov",
      "photoUrl": "",
      "userId": "00284840930055510851"
     },
     "user_tz": -180
    },
    "id": "gWouIsxnGHu1",
    "outputId": "43d66fcb-96b1-4cdc-cc1c-22bde7b3b3bb"
   },
   "outputs": [
    {
     "data": {
      "text/plain": [
       "array(['В минувший вторник таможенники столичного аэропорта \"Шереметьево\" задержали и вскрыли несколько ящиков, которые согласно накладным следовали из Румынии в Грузию. В ящиках были обнаружены гранатомет, четыре миномета, боеприпасы к ним, а также бронежилеты и камуфляжная форма. Поскольку транзитный провоз через Россию военного снаряжения запрещен, в отношении груза было заведено дело о нарушении таможенных правил. Как сообщает НТВ со ссылкой на \"Интерфакс\", следствию, в частности, предстоит выяснить, каким образом груз, который должен был следовать напрямую из Румынии в Грузию, оказался в России. Есть все основания полагать, что груз предназначался для Чечни, отметили в пресс-службе ГТК. Руководитель пресс-центра Минобороны Грузии Коба Ликликадзе опроверг сообщения ряда российских СМИ о том, что задержанный накануне на Шереметьевской таможне груз, направлявшийся транзитом в Тбилиси, якобы предназначался для чеченских боевиков. Министерство обороны Грузии будет добиваться возвращения в Тбилиси военных  экспонатов, задержанных накануне на таможне в аэропорту\"Шереметьево\" в Москве, заявил сегодня на пресс-конференциизаместитель министра обороны Григол Катамадзе. По его словам,таможенные службы России уже второй раз \"по непонятным причинам\" задерживают груз, принадлежащий министерству обороны Грузии. Румынское посольство в Москве не располагает никакой официальной информацией о военном грузе из Румынии, задержанном в минувший вторник сотрудниками Шереметьевской таможни. Министерствообороны Румынии не направляло никаких военных грузов в Грузию.Об этом РИА \"Новости\" заявил посол Румынии в Москве ИонДьякону. Он сообщил, что дипмиссия \"проинформировала Бухарест о факте задержания и теперь ждет результатов расследования, которое проводит российская таможня\". При этом посол выразил уверенность, что \"груз был доставлен не румынским самолетом, поскольку румынская авиакомпания не совершает рейсов в Москву\".',\n",
       "       list([('Президент России и власть', 0.06313318), ('Криминальная сводка', 0.18910523), ('Вооружение и оборона', 0.16112998), ('Перелеты и пассажирская авиация', 0.23820439), ('Следствие, уголовное судопроизводство', 0.0489412), ('Внешняя политика России, Украина', 0.27419537), ('Ближний восток, терроризм', 0.01732367)])],\n",
       "      dtype=object)"
      ]
     },
     "execution_count": 24,
     "metadata": {
      "tags": []
     },
     "output_type": "execute_result"
    }
   ],
   "source": [
    "data_res.values[2000]"
   ]
  },
  {
   "cell_type": "code",
   "execution_count": 25,
   "metadata": {
    "colab": {
     "base_uri": "https://localhost:8080/",
     "height": 89
    },
    "colab_type": "code",
    "executionInfo": {
     "elapsed": 2366,
     "status": "ok",
     "timestamp": 1595162410044,
     "user": {
      "displayName": "Artem Glazunov",
      "photoUrl": "",
      "userId": "00284840930055510851"
     },
     "user_tz": -180
    },
    "id": "AZbQHLe0F8Xa",
    "outputId": "34894c3e-35ec-447e-89b9-0a38e9375d3d"
   },
   "outputs": [
    {
     "data": {
      "text/plain": [
       "array(['Президент России назначил директора Федеральной службы по техническому и экспортному контролю Сергея Григорова председателем Межведомственной комиссии по защите государственной тайны. Одновременно президент своим указом освободил от исполнения обязанностей главы комиссии Бориса Алешина, который в правительстве Касьянова занимал пост вице-премьера России, а в настоящее время является руководителем Федерального агентства по промышленности. Текст указа был размещен 31 августа на официальном сайте президента. Правительству России поручено представить предложения по составу Межведомственной комиссии по защите гостайны по должностям, а также предложения по совершенствованию деятельности комиссии. Как сообщает информационное агентство ПРАЙМ-ТАСС, Григоров был назначен на пост директора Федеральной службы по техническому и экспортному контролю указом президента России в конце июля 2004 года. Ранее Григоров занимал должность председателя Государственной технической комиссии при президенте России. Федеральная служба по техническому и экспортному контролю находится в ведении Министерства обороны России.',\n",
       "       list([('Президент России и власть', 0.41313183), ('Вооружение и оборона', 0.13203424), ('Государство и законотворчество', 0.4538596)])],\n",
       "      dtype=object)"
      ]
     },
     "execution_count": 25,
     "metadata": {
      "tags": []
     },
     "output_type": "execute_result"
    }
   ],
   "source": [
    "data_res.values[100000]"
   ]
  },
  {
   "cell_type": "code",
   "execution_count": 26,
   "metadata": {
    "colab": {
     "base_uri": "https://localhost:8080/",
     "height": 89
    },
    "colab_type": "code",
    "executionInfo": {
     "elapsed": 2353,
     "status": "ok",
     "timestamp": 1595162410046,
     "user": {
      "displayName": "Artem Glazunov",
      "photoUrl": "",
      "userId": "00284840930055510851"
     },
     "user_tz": -180
    },
    "id": "cwQZglqmCTef",
    "outputId": "a9f29cfd-a8a1-413f-e200-35f8537a0eba"
   },
   "outputs": [
    {
     "data": {
      "text/plain": [
       "array(['Министерство юстиции России предложило изменить правила взыскания долгов. Соответствующий документ опубликован на портале проектов нормативных правовых актов. В частности, предлагается законодательно закрепить использование роботов-коллекторов — инструмента для отправки голосовых сообщений — для сбора задолженности с граждан. Уточняется, что такие роботы применяют систему генерации речи и способны поддерживать различные сценарии разговоров. Их использование будет считаться за взаимодействие с должником, однако он, в свою очередь, может отказаться от получения сообщений. Кроме того, документ предусматривает обязательный досудебный порядок возврата просроченных долгов физических лиц. Взыскатель может обратиться в суд только в том случае, если должник не расплатился в течение 30 дней после получения предложения о возврате долга. Также в документе говорится о том, что Правительством России могут быть установлены особенности взаимодействия с должником при возврате просроченной задолженности по оплате жилищно-коммунальных услуг. Помимо этого, Минюст предложил включить в госреестр организации, занимающиеся возвратом просроченных долгов по кредитам. Речь идет, в частности, о кредитных и микрофинансовых организациях, кредитных потребительских кооперативах и ломбардах. Предполагается, что изменения вступят в силу в январе 2021 года. В сентябре Министерство экономического развития России разработало законопроект о сохранении на счету гражданина после взыскания с него всех долгов средств в размере прожиточного минимума. Реформа не затронет ряд категорий должников. Среди них — должники по алиментам, коммунальным услугам, штрафам и налогам. Также не оставят средств тем, кто возмещает вред от преступления.',\n",
       "       list([('Президент России и власть', 0.012453331), ('IT и медиа', 0.052642345), ('Государство и законотворчество', 0.71310806), ('Следствие, уголовное судопроизводство', 0.03286875), ('Банки и финансы', 0.18827996)])],\n",
       "      dtype=object)"
      ]
     },
     "execution_count": 26,
     "metadata": {
      "tags": []
     },
     "output_type": "execute_result"
    }
   ],
   "source": [
    "data_res.values[800966]"
   ]
  },
  {
   "cell_type": "code",
   "execution_count": 27,
   "metadata": {
    "colab": {
     "base_uri": "https://localhost:8080/",
     "height": 89
    },
    "colab_type": "code",
    "executionInfo": {
     "elapsed": 2336,
     "status": "ok",
     "timestamp": 1595162410047,
     "user": {
      "displayName": "Artem Glazunov",
      "photoUrl": "",
      "userId": "00284840930055510851"
     },
     "user_tz": -180
    },
    "id": "N0gQipepEMye",
    "outputId": "c90e0b1c-b0eb-42f9-bcb6-919dd20a44b3"
   },
   "outputs": [
    {
     "data": {
      "text/plain": [
       "array(['Ведущие футбольные чемпионаты ушли на зимние каникулы, но только не Английская премьер-лига (АПЛ). Самое время поучаствовать в совместном конкурсе букмекерской компании Olimp.Bet и тренажера игры на ставках social.bet «Новый год по-английски»! С 14 декабря 2019 года по 23 января 2020 года делайте виртуальные ставки на social.bet, добивайтесь максимальной прибыли и поднимайтесь в рейтинге участников. Призовой фонд конкурса — 100 тысяч рублей фрибетами, 11 подписок на ОККО Спорт, три футболки любимой команды АПЛ и мячи с автографами известных экспертов. В случае, если одинаковой максимальной прибыли в конкурсе достигнут два или более участников, выиграет тот, кто сделал больше ставок. Для участия в конкурсе необходимо зарегистрироваться на странице конкурса и в БК «Олимп». Отпразднуй «Новый год по-английски»!',\n",
       "       list([('IT и медиа', 0.105140544), ('Экономика и рынок', 0.07844854), ('Шоубизнес, общее', 0.4033641), ('Наука и исследования', 0.07874211), ('Спорт', 0.18510184), ('Банки и финансы', 0.14793243)])],\n",
       "      dtype=object)"
      ]
     },
     "execution_count": 27,
     "metadata": {
      "tags": []
     },
     "output_type": "execute_result"
    }
   ],
   "source": [
    "data_res.values[800969]"
   ]
  },
  {
   "cell_type": "code",
   "execution_count": 28,
   "metadata": {
    "colab": {
     "base_uri": "https://localhost:8080/",
     "height": 89
    },
    "colab_type": "code",
    "executionInfo": {
     "elapsed": 2320,
     "status": "ok",
     "timestamp": 1595162410048,
     "user": {
      "displayName": "Artem Glazunov",
      "photoUrl": "",
      "userId": "00284840930055510851"
     },
     "user_tz": -180
    },
    "id": "qhGAi-fFFkWu",
    "outputId": "08450670-606c-4d63-b332-1b76b44f631b"
   },
   "outputs": [
    {
     "data": {
      "text/plain": [
       "array(['Компания Forbes, Inc. начала процесс отзыва лицензии на издание украинской версии журнала Forbes у компании UMH, принадлежащей предпринимателю Сергею Курченко, сообщает BuzzFeed. Также в Forbes заявили об увольнении из компании вице-президента Мигеля Форбса, который одобрил переход лицензии на издание журнала к Курченко в июне 2013 года. По словам представителя Forbes Мии Карбонелл (Mia Carbonell), увольнение Мигеля Форбса, о котором ранее в СМИ не сообщалось, произошло в конце 2013 года и не связано со скандалом вокруг украинской версии журнала. Причины, по которым было решено отозвать у UMH лицензию на выпуск Forbes на Украине, не называются. 6 марта 2014 года стало известно, что МВД Украины завело 11 уголовных дел в связи с деятельностью фирм, подконтрольных Сергею Курченко. Как заявил исполняющий обязанности главы украинского МВД Арсен Аваков, с 2012 по 2013 год компании Курченко ввезли на территорию Украины нефтепродукты с целью перепродажи за рубеж, однако в конечном итоге продукция была реализована на территории страны без уплаты налогов и сборов. Сумма ущерба бюджету от этих махинаций оценена в 7 миллиардов гривен (около 28 миллиардов рублей). В ноябре 2013 года из украинского Forbes уволились 13 журналистов в знак протеста против изменения редакционной политики издания. Главный редактор проекта «Forbes — Украина» Михаил Котов тогда заявил, что увольнение журналистов связано с объединением редакций журнала и сайта Forbes, а редакционная политика осталась неизменной. Котов возглавил украинский Forbes в июле 2013 года через месяц после перехода издания под контроль структур Курченко. Предыдущий главный редактор издания Владимир Федорин утверждал, что Курченко купил журнал в политических целях. В украинских СМИ неоднократно говорилось, что Курченко является близким соратником Виктора Януковича и входит в его окружение. После отстранения Верховной Радой Януковича от власти Курченко покинул Украину и, по некоторым данным, может находиться в России. Forbes издается на территории Украины с 2011 года.',\n",
       "       list([('Президент России и власть', 0.2736701), ('Шоубизнес, общее', 0.11029478), ('Бизнес', 0.18088458), ('Следствие, уголовное судопроизводство', 0.09253132), ('Внешняя политика России, Украина', 0.21507089), ('Банки и финансы', 0.1270885)])],\n",
       "      dtype=object)"
      ]
     },
     "execution_count": 28,
     "metadata": {
      "tags": []
     },
     "output_type": "execute_result"
    }
   ],
   "source": [
    "data_res.values[500000]"
   ]
  },
  {
   "cell_type": "code",
   "execution_count": 29,
   "metadata": {
    "colab": {
     "base_uri": "https://localhost:8080/",
     "height": 89
    },
    "colab_type": "code",
    "executionInfo": {
     "elapsed": 2305,
     "status": "ok",
     "timestamp": 1595162410051,
     "user": {
      "displayName": "Artem Glazunov",
      "photoUrl": "",
      "userId": "00284840930055510851"
     },
     "user_tz": -180
    },
    "id": "RldKChn5HWQP",
    "outputId": "ffa598b9-b093-4e48-b423-e29782cc332e"
   },
   "outputs": [
    {
     "data": {
      "text/plain": [
       "array(['Телеканал «Россия 24» в эфире программы «Вести» по ошибке назвал посла Украины в Таджикистане и Афганистане Виктора Никитюка одним из семи украинцев, погибших во время теракта в гостинице Intercontinental в Кабуле. Об этом сообщает таджикистанская радиостанция «Радио Озоди». По словам самого дипломата, в момент своей «гибели» он находился в Душанбе и крайне удивился новостям таджикских СМИ, которые ссылались на «Вести». Как утверждает Никитюк, он уверен, что сообщение о его гибели — провокация российского телеканала. «Ни одно из мировых средств массовой информации, кроме российского, не дало сообщения, что в ходе теракта погиб посол Украины», — пояснил он. О нападении боевиков на гостиницу Intercontinental сообщалось 21 января. По разным данным, погибли от 18 до 43 человек. Атака, длившаяся более 17 часов, была подавлена. Всю ночь, за исключением двухчасового перерыва, из гостиницы раздавались стрельба и взрывы. К утру на место происшествия прибыли отряды специального назначения. Министерство внутренних дел страны сообщало, что нападавших было шестеро. Ответственность за произошедшее взяло на себя движение «Талибан» (запрещено в России).',\n",
       "       list([('Президент России и власть', 0.22846438), ('Криминальная сводка', 0.2720306), ('Внешняя политика России, Украина', 0.14718), ('Ближний восток, терроризм', 0.35139275)])],\n",
       "      dtype=object)"
      ]
     },
     "execution_count": 29,
     "metadata": {
      "tags": []
     },
     "output_type": "execute_result"
    }
   ],
   "source": [
    "data_res.values[700000]"
   ]
  },
  {
   "cell_type": "code",
   "execution_count": 30,
   "metadata": {
    "colab": {
     "base_uri": "https://localhost:8080/",
     "height": 89
    },
    "colab_type": "code",
    "executionInfo": {
     "elapsed": 2287,
     "status": "ok",
     "timestamp": 1595162410052,
     "user": {
      "displayName": "Artem Glazunov",
      "photoUrl": "",
      "userId": "00284840930055510851"
     },
     "user_tz": -180
    },
    "id": "QSmmxFJEHfm_",
    "outputId": "60e3b001-3479-4400-865f-a669d83c19d6"
   },
   "outputs": [
    {
     "data": {
      "text/plain": [
       "array(['Правительство РФ по предложению парламента Кемеровской области приняло решение о переводе региона в другой часовой пояс, сообщает \"Интерфакс\". 28 марта 2010 года, когда в стране будет осуществляться переход на летнее время, в Кемеровской области переводить часы не станут.\\r Разница во времени между Кемерово и Москвой сократится с четырех (UTC+7, красноярское время) до трех часов (UTC+6, омское время). Кемеровская область окажется в одном часовом поясе с Новосибирском, Бишкеком, Барнаулом, Астаной и Алма-Атой.\\r В 90-х годах многие российские регионы \"подвинулись\" на один часовой пояс в сторону Москвы. В частности, вся Западная Сибирь перешла с красноярского времени на омское. Кемеровская область оставалась единственным регионом, не осуществившим этот переход.',\n",
       "       list([('Москва и городское хозяйство', 0.49382943), ('Шоубизнес, общее', 0.13095346), ('Государство и законотворчество', 0.3154704), ('Внешняя политика России, Украина', 0.058236096)])],\n",
       "      dtype=object)"
      ]
     },
     "execution_count": 30,
     "metadata": {
      "tags": []
     },
     "output_type": "execute_result"
    }
   ],
   "source": [
    "data_res.values[300000]"
   ]
  },
  {
   "cell_type": "markdown",
   "metadata": {
    "colab_type": "text",
    "id": "JQlStDLIIoNx"
   },
   "source": [
    "## Despite some degree of topic-text consistency, there are a lot of things to work on. In my opinion, further analysis could help  extract some seldom important topics. "
   ]
  }
 ],
 "metadata": {
  "colab": {
   "authorship_tag": "ABX9TyNMyQmvI9kDljazEsLtPyPM",
   "collapsed_sections": [],
   "machine_shape": "hm",
   "name": "Final_model_testing",
   "provenance": []
  },
  "kernelspec": {
   "display_name": "Python 3",
   "language": "python",
   "name": "python3"
  },
  "language_info": {
   "codemirror_mode": {
    "name": "ipython",
    "version": 3
   },
   "file_extension": ".py",
   "mimetype": "text/x-python",
   "name": "python",
   "nbconvert_exporter": "python",
   "pygments_lexer": "ipython3",
   "version": "3.7.3"
  },
  "widgets": {
   "application/vnd.jupyter.widget-state+json": {
    "04b26f416334456989417aaa336aa8cd": {
     "model_module": "@jupyter-widgets/controls",
     "model_name": "HBoxModel",
     "state": {
      "_dom_classes": [],
      "_model_module": "@jupyter-widgets/controls",
      "_model_module_version": "1.5.0",
      "_model_name": "HBoxModel",
      "_view_count": null,
      "_view_module": "@jupyter-widgets/controls",
      "_view_module_version": "1.5.0",
      "_view_name": "HBoxView",
      "box_style": "",
      "children": [
       "IPY_MODEL_a22523f9e39e4c47ad8eed055a40f923",
       "IPY_MODEL_9195c0298b324e8bba11e52adc22e1bb"
      ],
      "layout": "IPY_MODEL_fb5b32c9c1df40889a8851bf15faa297"
     }
    },
    "9195c0298b324e8bba11e52adc22e1bb": {
     "model_module": "@jupyter-widgets/controls",
     "model_name": "HTMLModel",
     "state": {
      "_dom_classes": [],
      "_model_module": "@jupyter-widgets/controls",
      "_model_module_version": "1.5.0",
      "_model_name": "HTMLModel",
      "_view_count": null,
      "_view_module": "@jupyter-widgets/controls",
      "_view_module_version": "1.5.0",
      "_view_name": "HTMLView",
      "description": "",
      "description_tooltip": null,
      "layout": "IPY_MODEL_b8bd57ae22414b5e9e18105f417fb4e8",
      "placeholder": "​",
      "style": "IPY_MODEL_e3b8bffc9ea2474189ef1a6d3988d702",
      "value": " 800970/800970 [10:49&lt;00:00, 1232.95it/s]"
     }
    },
    "a22523f9e39e4c47ad8eed055a40f923": {
     "model_module": "@jupyter-widgets/controls",
     "model_name": "FloatProgressModel",
     "state": {
      "_dom_classes": [],
      "_model_module": "@jupyter-widgets/controls",
      "_model_module_version": "1.5.0",
      "_model_name": "FloatProgressModel",
      "_view_count": null,
      "_view_module": "@jupyter-widgets/controls",
      "_view_module_version": "1.5.0",
      "_view_name": "ProgressView",
      "bar_style": "success",
      "description": "100%",
      "description_tooltip": null,
      "layout": "IPY_MODEL_dd0ca14e564e409dbc4eced58cd295e9",
      "max": 800970,
      "min": 0,
      "orientation": "horizontal",
      "style": "IPY_MODEL_aaa060dc38ff41c68b17f70a1dfa3ee2",
      "value": 800970
     }
    },
    "aaa060dc38ff41c68b17f70a1dfa3ee2": {
     "model_module": "@jupyter-widgets/controls",
     "model_name": "ProgressStyleModel",
     "state": {
      "_model_module": "@jupyter-widgets/controls",
      "_model_module_version": "1.5.0",
      "_model_name": "ProgressStyleModel",
      "_view_count": null,
      "_view_module": "@jupyter-widgets/base",
      "_view_module_version": "1.2.0",
      "_view_name": "StyleView",
      "bar_color": null,
      "description_width": "initial"
     }
    },
    "b8bd57ae22414b5e9e18105f417fb4e8": {
     "model_module": "@jupyter-widgets/base",
     "model_name": "LayoutModel",
     "state": {
      "_model_module": "@jupyter-widgets/base",
      "_model_module_version": "1.2.0",
      "_model_name": "LayoutModel",
      "_view_count": null,
      "_view_module": "@jupyter-widgets/base",
      "_view_module_version": "1.2.0",
      "_view_name": "LayoutView",
      "align_content": null,
      "align_items": null,
      "align_self": null,
      "border": null,
      "bottom": null,
      "display": null,
      "flex": null,
      "flex_flow": null,
      "grid_area": null,
      "grid_auto_columns": null,
      "grid_auto_flow": null,
      "grid_auto_rows": null,
      "grid_column": null,
      "grid_gap": null,
      "grid_row": null,
      "grid_template_areas": null,
      "grid_template_columns": null,
      "grid_template_rows": null,
      "height": null,
      "justify_content": null,
      "justify_items": null,
      "left": null,
      "margin": null,
      "max_height": null,
      "max_width": null,
      "min_height": null,
      "min_width": null,
      "object_fit": null,
      "object_position": null,
      "order": null,
      "overflow": null,
      "overflow_x": null,
      "overflow_y": null,
      "padding": null,
      "right": null,
      "top": null,
      "visibility": null,
      "width": null
     }
    },
    "dd0ca14e564e409dbc4eced58cd295e9": {
     "model_module": "@jupyter-widgets/base",
     "model_name": "LayoutModel",
     "state": {
      "_model_module": "@jupyter-widgets/base",
      "_model_module_version": "1.2.0",
      "_model_name": "LayoutModel",
      "_view_count": null,
      "_view_module": "@jupyter-widgets/base",
      "_view_module_version": "1.2.0",
      "_view_name": "LayoutView",
      "align_content": null,
      "align_items": null,
      "align_self": null,
      "border": null,
      "bottom": null,
      "display": null,
      "flex": null,
      "flex_flow": null,
      "grid_area": null,
      "grid_auto_columns": null,
      "grid_auto_flow": null,
      "grid_auto_rows": null,
      "grid_column": null,
      "grid_gap": null,
      "grid_row": null,
      "grid_template_areas": null,
      "grid_template_columns": null,
      "grid_template_rows": null,
      "height": null,
      "justify_content": null,
      "justify_items": null,
      "left": null,
      "margin": null,
      "max_height": null,
      "max_width": null,
      "min_height": null,
      "min_width": null,
      "object_fit": null,
      "object_position": null,
      "order": null,
      "overflow": null,
      "overflow_x": null,
      "overflow_y": null,
      "padding": null,
      "right": null,
      "top": null,
      "visibility": null,
      "width": null
     }
    },
    "e3b8bffc9ea2474189ef1a6d3988d702": {
     "model_module": "@jupyter-widgets/controls",
     "model_name": "DescriptionStyleModel",
     "state": {
      "_model_module": "@jupyter-widgets/controls",
      "_model_module_version": "1.5.0",
      "_model_name": "DescriptionStyleModel",
      "_view_count": null,
      "_view_module": "@jupyter-widgets/base",
      "_view_module_version": "1.2.0",
      "_view_name": "StyleView",
      "description_width": ""
     }
    },
    "fb5b32c9c1df40889a8851bf15faa297": {
     "model_module": "@jupyter-widgets/base",
     "model_name": "LayoutModel",
     "state": {
      "_model_module": "@jupyter-widgets/base",
      "_model_module_version": "1.2.0",
      "_model_name": "LayoutModel",
      "_view_count": null,
      "_view_module": "@jupyter-widgets/base",
      "_view_module_version": "1.2.0",
      "_view_name": "LayoutView",
      "align_content": null,
      "align_items": null,
      "align_self": null,
      "border": null,
      "bottom": null,
      "display": null,
      "flex": null,
      "flex_flow": null,
      "grid_area": null,
      "grid_auto_columns": null,
      "grid_auto_flow": null,
      "grid_auto_rows": null,
      "grid_column": null,
      "grid_gap": null,
      "grid_row": null,
      "grid_template_areas": null,
      "grid_template_columns": null,
      "grid_template_rows": null,
      "height": null,
      "justify_content": null,
      "justify_items": null,
      "left": null,
      "margin": null,
      "max_height": null,
      "max_width": null,
      "min_height": null,
      "min_width": null,
      "object_fit": null,
      "object_position": null,
      "order": null,
      "overflow": null,
      "overflow_x": null,
      "overflow_y": null,
      "padding": null,
      "right": null,
      "top": null,
      "visibility": null,
      "width": null
     }
    }
   }
  }
 },
 "nbformat": 4,
 "nbformat_minor": 1
}
